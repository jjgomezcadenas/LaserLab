{
 "cells": [
  {
   "cell_type": "code",
   "execution_count": 101,
   "id": "2e635dfa-7569-4bf9-8c40-a6cd38be397a",
   "metadata": {
    "tags": []
   },
   "outputs": [],
   "source": [
    "import time\n",
    "import sys\n",
    "import struct\n",
    "import io"
   ]
  },
  {
   "cell_type": "code",
   "execution_count": 102,
   "id": "76607b13-7bbe-4465-9bf8-c00602eb31ab",
   "metadata": {
    "tags": []
   },
   "outputs": [],
   "source": [
    "# Tag Types\n",
    "tyEmpty8 = struct.unpack(\">i\", bytes.fromhex(\"FFFF0008\"))[0]\n",
    "tyBool8 = struct.unpack(\">i\", bytes.fromhex(\"00000008\"))[0]\n",
    "tyInt8 = struct.unpack(\">i\", bytes.fromhex(\"10000008\"))[0]\n",
    "tyBitSet64 = struct.unpack(\">i\", bytes.fromhex(\"11000008\"))[0]\n",
    "tyColor8 = struct.unpack(\">i\", bytes.fromhex(\"12000008\"))[0]\n",
    "tyFloat8 = struct.unpack(\">i\", bytes.fromhex(\"20000008\"))[0]\n",
    "tyColor8 = struct.unpack(\">i\", bytes.fromhex(\"21000008\"))[0]\n",
    "tyFloat8Array = struct.unpack(\">i\", bytes.fromhex(\"2001FFFF\"))[0]\n",
    "tyAnsiString = struct.unpack(\">i\", bytes.fromhex(\"4001FFFF\"))[0]\n",
    "tyWideString = struct.unpack(\">i\", bytes.fromhex(\"4002FFFF\"))[0]\n",
    "tyBinaryBlob = struct.unpack(\">i\", bytes.fromhex(\"FFFFFFFF\"))[0]\n",
    "tyTDateTime = struct.unpack(\">i\", bytes.fromhex(\"21000008\"))[0]"
   ]
  },
  {
   "cell_type": "code",
   "execution_count": 103,
   "id": "b5c1da25-2cca-48e4-a0ef-f0135e018e78",
   "metadata": {
    "tags": []
   },
   "outputs": [
    {
     "name": "stdout",
     "output_type": "stream",
     "text": [
      "-65528 8 268435464 285212680 536870920 553648136 537001983 1073872895 1073938431 -1\n"
     ]
    }
   ],
   "source": [
    "print(tyEmpty8,tyBool8,tyInt8,tyBitSet64,tyFloat8,tyColor8,tyFloat8Array, tyAnsiString, tyWideString, tyBinaryBlob)"
   ]
  },
  {
   "cell_type": "code",
   "execution_count": 104,
   "id": "f4fdc423-db34-4ce2-a424-08f3d27e4bb8",
   "metadata": {
    "tags": []
   },
   "outputs": [],
   "source": [
    "# Record types\n",
    "rtPicoHarpT3 = struct.unpack(\">i\", bytes.fromhex(\"00010303\"))[0]\n",
    "rtPicoHarpT2 = struct.unpack(\">i\", bytes.fromhex(\"00010203\"))[0]\n",
    "rtHydraHarpT3 = struct.unpack(\">i\", bytes.fromhex(\"00010304\"))[0]\n",
    "rtHydraHarpT2 = struct.unpack(\">i\", bytes.fromhex(\"00010204\"))[0]\n",
    "rtHydraHarp2T3 = struct.unpack(\">i\", bytes.fromhex(\"01010304\"))[0]\n",
    "rtHydraHarp2T2 = struct.unpack(\">i\", bytes.fromhex(\"01010204\"))[0]\n",
    "rtTimeHarp260NT3 = struct.unpack(\">i\", bytes.fromhex(\"00010305\"))[0]\n",
    "rtTimeHarp260NT2 = struct.unpack(\">i\", bytes.fromhex(\"00010205\"))[0]\n",
    "rtTimeHarp260PT3 = struct.unpack(\">i\", bytes.fromhex(\"00010306\"))[0]\n",
    "rtTimeHarp260PT2 = struct.unpack(\">i\", bytes.fromhex(\"00010206\"))[0]\n",
    "rtMultiHarpT3 = struct.unpack(\">i\", bytes.fromhex(\"00010307\"))[0]\n",
    "rtMultiHarpT2 = struct.unpack(\">i\", bytes.fromhex(\"00010207\"))[0]"
   ]
  },
  {
   "cell_type": "code",
   "execution_count": 105,
   "id": "f1b9d384-aae7-47dd-978c-27264eacf1ab",
   "metadata": {
    "tags": []
   },
   "outputs": [],
   "source": [
    "# global variables\n",
    "global inputfile\n",
    "global outputfile\n",
    "global recNum\n",
    "global oflcorrection\n",
    "global truensync\n",
    "global dlen\n",
    "global isT2\n",
    "global globRes\n",
    "global numRecords"
   ]
  },
  {
   "cell_type": "code",
   "execution_count": 106,
   "id": "48695b32-0519-44db-8516-576e6216a3a4",
   "metadata": {
    "tags": []
   },
   "outputs": [],
   "source": [
    "fname=\"/Users/jjgomezcadenas/Projects/LaserLab/test/test.ptu\""
   ]
  },
  {
   "cell_type": "code",
   "execution_count": 107,
   "id": "2c9fe691-bf29-41ff-a29f-d356bceb66ff",
   "metadata": {
    "tags": []
   },
   "outputs": [],
   "source": [
    "global inputfile\n",
    "global outputfile\n",
    "global recNum\n",
    "global oflcorrection\n",
    "global truensync\n",
    "global dlen\n",
    "global isT2\n",
    "global globRes\n",
    "global numRecords"
   ]
  },
  {
   "cell_type": "code",
   "execution_count": 109,
   "id": "890527ce-e3e2-4beb-8867-1fa617d0bc67",
   "metadata": {
    "tags": []
   },
   "outputs": [
    {
     "name": "stdout",
     "output_type": "stream",
     "text": [
      "tagDataList = [('File_GUID', '{C2A0FD07-1212-47FE-9799-6DEADA712E69}'), ('File_AssuredContent', 'HydraHarp: HWSETG SWSETG'), ('CreatorSW_ContentVersion', '3.0'), ('CreatorSW_Name', 'HydraHarp AcqUI'), ('CreatorSW_Version', '3.0.0.4'), ('File_CreatingTime', 4676432107605872482), ('File_Comment', 'T3 Mode'), ('Measurement_Mode', 3), ('Measurement_SubMode', 0), ('TTResult_StopReason', 1), ('Fast_Load_End', '<empty Tag>'), ('TTResultFormat_TTTRRecType', 16843524), ('TTResultFormat_BitsPerRecord', 32), ('MeasDesc_BinningFactor', 128), ('MeasDesc_Offset', 0), ('MeasDesc_AcquisitionTime', 60000), ('MeasDesc_StopAt', 4294967295), ('MeasDesc_StopOnOvfl', 'True'), ('MeasDesc_Restart', 'True'), ('CurSWSetting_DispLog', 'True'), ('CurSWSetting_DispAxisTimeFrom', 0), ('CurSWSetting_DispAxisTimeTo', 250), ('CurSWSetting_DispAxisCountFrom', 10), ('CurSWSetting_DispAxisCountTo', 429295), ('CurSWSetting_DispCurves', 8), ('CurSWSetting_DispCurve_MapTo(0)', 0), ('CurSWSetting_DispCurve_Show(0)', 'True'), ('CurSWSetting_DispCurve_MapTo(1)', 1), ('CurSWSetting_DispCurve_Show(1)', 'True'), ('CurSWSetting_DispCurve_MapTo(2)', 2), ('CurSWSetting_DispCurve_Show(2)', 'True'), ('CurSWSetting_DispCurve_MapTo(3)', 3), ('CurSWSetting_DispCurve_Show(3)', 'True'), ('CurSWSetting_DispCurve_MapTo(4)', 4), ('CurSWSetting_DispCurve_Show(4)', 'True'), ('CurSWSetting_DispCurve_MapTo(5)', 5), ('CurSWSetting_DispCurve_Show(5)', 'True'), ('CurSWSetting_DispCurve_MapTo(6)', 6), ('CurSWSetting_DispCurve_Show(6)', 'True'), ('CurSWSetting_DispCurve_MapTo(7)', 7), ('CurSWSetting_DispCurve_Show(7)', 'True'), ('HW_Type', 'HydraHarp 400'), ('HW_PartNo', '930021'), ('HW_Version', '2.0'), ('HW_SerialNo', '1039212'), ('HW_Modules', 4), ('HWModule_TypeCode(0)', 1000), ('HWModule_VersCode(0)', 51052545), ('HWModule_TypeCode(1)', 1010), ('HWModule_VersCode(1)', 33554954), ('HWModule_TypeCode(2)', 1040), ('HWModule_VersCode(2)', 18219530), ('HWModule_TypeCode(3)', 1040), ('HWModule_VersCode(3)', 18219530), ('HW_BaseResolution', 1e-12), ('HW_InpChannels', 4), ('HW_ExternalRefClock', 'False'), ('HW_ExternalDevices', 0), ('HWSync_Divider', 1), ('HWSync_CFDLevel', 200), ('HWSync_CFDZeroCross', 0), ('HWSync_Offset', 0), ('HWInpChan_ModuleIdx(0)', 2), ('HWInpChan_CFDLevel(0)', 100), ('HWInpChan_CFDZeroCross(0)', 0), ('HWInpChan_Offset(0)', 0), ('HWInpChan_Enabled(0)', 'True'), ('HWInpChan_ModuleIdx(1)', 2), ('HWInpChan_CFDLevel(1)', 500), ('HWInpChan_CFDZeroCross(1)', 10), ('HWInpChan_Offset(1)', 0), ('HWInpChan_Enabled(1)', 'True'), ('HWInpChan_ModuleIdx(2)', 3), ('HWInpChan_CFDLevel(2)', 800), ('HWInpChan_CFDZeroCross(2)', 10), ('HWInpChan_Offset(2)', 0), ('HWInpChan_Enabled(2)', 'True'), ('HWInpChan_ModuleIdx(3)', 3), ('HWInpChan_CFDLevel(3)', 500), ('HWInpChan_CFDZeroCross(3)', 10), ('HWInpChan_Offset(3)', 0), ('HWInpChan_Enabled(3)', 'True'), ('MeasDesc_Resolution', 1.28e-10), ('HW_Markers', 4), ('HWMarkers_RisingEdge(0)', 'True'), ('HWMarkers_RisingEdge(1)', 'True'), ('HWMarkers_RisingEdge(2)', 'True'), ('HWMarkers_RisingEdge(3)', 'True'), ('HWMarkers_Enabled(0)', 'True'), ('HWMarkers_Enabled(1)', 'True'), ('HWMarkers_Enabled(2)', 'True'), ('HWMarkers_Enabled(3)', 'True'), ('HWMarkers_HoldOff', 0), ('MeasDesc_GlobalResolution', 1.9999680005119917e-07), ('TTResult_SyncRate', 5000080), ('TTResult_InputRate(0)', 90050), ('TTResult_InputRate(1)', 0), ('TTResult_InputRate(2)', 0), ('TTResult_InputRate(3)', 0), ('TTResult_StopAfter', 4079), ('TTResult_NumberOfRecords', 246151), ('Header_End', '<empty Tag>')]\n"
     ]
    }
   ],
   "source": [
    "\n",
    "inputfile = open(fname, \"rb\")\n",
    "# The following is needed for support of wide strings\n",
    "outputfile = io.open(\"/Users/jjgomezcadenas/Projects/LaserLab/test/out.txt\", \"w+\")\n",
    "\n",
    "magic = inputfile.read(8).decode(\"utf-8\").strip(\"\\0\")\n",
    "if magic != \"PQTTTR\":\n",
    "    print(\"ERROR: Magic invalid, this is not a PTU file.\")\n",
    "    inputfile.close()\n",
    "    outputfile.close()\n",
    "    exit(0)\n",
    "\n",
    "version = inputfile.read(8).decode(\"utf-8\").strip(\"\\0\")\n",
    "outputfile.write(\"Tag version: %s\\n\" % version)\n",
    "\n",
    "# Write the header data to outputfile and also save it in memory.\n",
    "# There's no do ... while in Python, so an if statement inside the while loop\n",
    "# breaks out of it\n",
    "tagDataList = []  # Contains tuples of (tagName, tagValue)\n",
    "# Write the header data to outputfile and also save it in memory.\n",
    "# There's no do ... while in Python, so an if statement inside the while loop\n",
    "# breaks out of it\n",
    "\n",
    "\n",
    "i = 0\n",
    "while True:\n",
    "#while i < 20:\n",
    "    i+=1\n",
    "    tagIdent = inputfile.read(32).decode(\"utf-8\").strip(\"\\0\")\n",
    "    tagIdx = struct.unpack(\"<i\", inputfile.read(4))[0]\n",
    "    tagTyp = struct.unpack(\"<i\", inputfile.read(4))[0]\n",
    "    if tagIdx > -1:\n",
    "        evalName = tagIdent + \"(\" + str(tagIdx) + \")\"\n",
    "    else:\n",
    "        evalName = tagIdent\n",
    "    outputfile.write(\"\\n%-40s\" % evalName)\n",
    "    \n",
    "    #print(\"Reading cycle = \", i)\n",
    "    #print(\"tagType =\", tagTyp)\n",
    "    \n",
    "    if tagTyp == tyEmpty8:\n",
    "        tagInt = inputfile.read(8)\n",
    "        outputfile.write(\"<empty Tag>\")\n",
    "        tagDataList.append((evalName, \"<empty Tag>\"))\n",
    "        \n",
    "        #print(\"case tyEmpty8: tagInt =\", tagInt)\n",
    "        \n",
    "    elif tagTyp == tyBool8:\n",
    "        tagInt = struct.unpack(\"<q\", inputfile.read(8))[0]\n",
    "        if tagInt == 0:\n",
    "            outputfile.write(\"False\")\n",
    "            tagDataList.append((evalName, \"False\"))\n",
    "        else:\n",
    "            outputfile.write(\"True\")\n",
    "            tagDataList.append((evalName, \"True\"))\n",
    "            \n",
    "        #print(\"case tyBool8: tagInt =\", tagInt)\n",
    "        \n",
    "    elif tagTyp == tyInt8:\n",
    "        tagInt = struct.unpack(\"<q\", inputfile.read(8))[0]\n",
    "        outputfile.write(\"%d\" % tagInt)\n",
    "        tagDataList.append((evalName, tagInt))\n",
    "        \n",
    "        #print(\"case tyInt8: tagInt =\", tagInt)\n",
    "        \n",
    "    elif tagTyp == tyBitSet64:\n",
    "        tagInt = struct.unpack(\"<q\", inputfile.read(8))[0]\n",
    "        outputfile.write(\"{0:#0{1}x}\".format(tagInt, 18))\n",
    "        tagDataList.append((evalName, tagInt))\n",
    "        \n",
    "        #print(\"case tyBitSet64: tagInt =\", tagInt)\n",
    "        \n",
    "    elif tagTyp == tyColor8:\n",
    "        tagInt = struct.unpack(\"<q\", inputfile.read(8))[0]\n",
    "        outputfile.write(\"{0:#0{1}x}\".format(tagInt, 18))\n",
    "        tagDataList.append((evalName, tagInt))\n",
    "        \n",
    "        #print(\"case tyColor8: tagInt =\", tagInt)\n",
    "        \n",
    "    elif tagTyp == tyFloat8:\n",
    "        tagFloat = struct.unpack(\"<d\", inputfile.read(8))[0]\n",
    "        outputfile.write(\"%-3E\" % tagFloat)\n",
    "        tagDataList.append((evalName, tagFloat))\n",
    "        \n",
    "        #print(\"case tyFloat8: tagFloat =\", tagFloat)\n",
    "        \n",
    "    elif tagTyp == tyFloat8Array:\n",
    "        tagInt = struct.unpack(\"<q\", inputfile.read(8))[0]\n",
    "        outputfile.write(\"<Float array with %d entries>\" % tagInt / 8)\n",
    "        tagDataList.append((evalName, tagInt))\n",
    "        \n",
    "        #print(\"case tyFloat8Array: tagInt =\", tagInt)\n",
    "        \n",
    "    elif tagTyp == tyTDateTime:\n",
    "        tagFloat = struct.unpack(\"<d\", inputfile.read(8))[0]\n",
    "        tagTime = int((tagFloat - 25569) * 86400)\n",
    "        tagTime = time.gmtime(tagTime)\n",
    "        #print(\"tagTime =\", tagTime)\n",
    "        outputfile.write(time.strftime(\"%a %b %d %H:%M:%S %Y\", tagTime))\n",
    "        tagDataList.append((evalName, tagTime))\n",
    "        \n",
    "        #print(\"case tyTDateTime: tagTime =\", tagTime)\n",
    "        \n",
    "    elif tagTyp == tyAnsiString:\n",
    "        tagInt = struct.unpack(\"<q\", inputfile.read(8))[0]\n",
    "        tagString = inputfile.read(tagInt).decode(\"utf-8\").strip(\"\\0\")\n",
    "        outputfile.write(\"%s\" % tagString)\n",
    "        tagDataList.append((evalName, tagString))\n",
    "        \n",
    "        #print(\"case tyAnsiString: tagString =\", tagString)\n",
    "        \n",
    "    elif tagTyp == tyWideString:\n",
    "        tagInt = struct.unpack(\"<q\", inputfile.read(8))[0]\n",
    "        tagString = (\n",
    "            inputfile.read(tagInt).decode(\"utf-16le\", errors=\"ignore\").strip(\"\\0\")\n",
    "        )\n",
    "        outputfile.write(tagString)\n",
    "        tagDataList.append((evalName, tagString))\n",
    "        \n",
    "        #print(\"case tyWideString: tagString =\", tagString)\n",
    "        \n",
    "    elif tagTyp == tyBinaryBlob:\n",
    "        tagInt = struct.unpack(\"<q\", inputfile.read(8))[0]\n",
    "        outputfile.write(\"<Binary blob with %d bytes>\" % tagInt)\n",
    "        tagDataList.append((evalName, tagInt))\n",
    "        \n",
    "        #print(\"case tyBinaryBlob: tagInt =\", tagInt)\n",
    "    else:\n",
    "        print(\"ERROR: Unknown tag type\")\n",
    "        #exit(0)\n",
    "    \n",
    "    \n",
    "    if tagIdent == \"Header_End\":\n",
    "        break\n",
    "        \n",
    "print(\"tagDataList =\", tagDataList)"
   ]
  },
  {
   "cell_type": "code",
   "execution_count": 110,
   "id": "692cdfbc-b1f2-4212-b149-37a7fcdda4b3",
   "metadata": {
    "tags": []
   },
   "outputs": [],
   "source": [
    "def readHT3(version):\n",
    "    global inputfile, outputfile, recNum, oflcorrection, numRecords\n",
    "    T3WRAPAROUND = 1024\n",
    "    #for recNum in range(0, numRecords):\n",
    "    for recNum in range(0, 10):\n",
    "        try:\n",
    "            recordData = \"{0:0{1}b}\".format(\n",
    "                struct.unpack(\"<I\", inputfile.read(4))[0], 32\n",
    "            )\n",
    "        except:\n",
    "            print(\n",
    "                \"The file ended earlier than expected, at record %d/%d.\"\n",
    "                % (recNum, numRecords)\n",
    "            )\n",
    "            exit(0)\n",
    "\n",
    "        special = int(recordData[0:1], base=2)\n",
    "        channel = int(recordData[1:7], base=2)\n",
    "        dtime = int(recordData[7:22], base=2)\n",
    "        nsync = int(recordData[22:32], base=2)\n",
    "        \n",
    "        print(\"special = \", special)\n",
    "        print(\"channel = \", channel)\n",
    "        print(\"dtime = \", dtime)\n",
    "        print(\"nsync = \", nsync)\n",
    "        \n",
    "        if special == 1:\n",
    "            if channel == 0x3F:  # Overflow\n",
    "                # Number of overflows in nsync. If 0 or old version, it's an\n",
    "                # old style single overflow\n",
    "                if nsync == 0 or version == 1:\n",
    "                    oflcorrection += T3WRAPAROUND\n",
    "                    gotOverflow(1)\n",
    "                    #print(\"Will call gotOverflow(1)\") \n",
    "                    #print(\"oflcorrection =\", oflcorrection) \n",
    "                else:\n",
    "                    oflcorrection += T3WRAPAROUND * nsync\n",
    "                    gotOverflow(nsync)\n",
    "                    #print(\"Will call gotOverflow(nsync)\") \n",
    "                    #print(\"oflcorrection =\", oflcorrection) \n",
    "                    \n",
    "            if channel >= 1 and channel <= 15:  # markers\n",
    "                truensync = oflcorrection + nsync\n",
    "                gotMarker(truensync, channel)\n",
    "                #print(\"Will call gotMarker(truensync, channel)\") \n",
    "                #print(\"truensync =\", truensync) \n",
    "                \n",
    "        else:  # regular input channel\n",
    "            truensync = oflcorrection + nsync\n",
    "            gotPhoton(truensync, channel, dtime)\n",
    "            #print(\"Will call gotPhoton(truensync, channel, dtime)\") \n",
    "            #print(\"truensync =\", truensync) \n",
    "        if recNum % 100000 == 0:\n",
    "            sys.stdout.write(\n",
    "                \"\\rProgress: %.1f%%\" % (float(recNum) * 100 / float(numRecords))\n",
    "            )\n",
    "            sys.stdout.flush()"
   ]
  },
  {
   "cell_type": "code",
   "execution_count": 111,
   "id": "6c642863-c50f-49e6-83db-d4ead0be0714",
   "metadata": {
    "tags": []
   },
   "outputs": [],
   "source": [
    "def gotOverflow(count):\n",
    "    global outputfile, recNum\n",
    "    outputfile.write(\"%u OFL * %2x\\n\" % (recNum, count))\n",
    "\n",
    "\n",
    "def gotMarker(timeTag, markers):\n",
    "    global outputfile, recNum\n",
    "    outputfile.write(\"%u MAR %2x %u\\n\" % (recNum, markers, timeTag))\n",
    "\n",
    "\n",
    "def gotPhoton(timeTag, channel, dtime):\n",
    "    global outputfile, isT2, recNum\n",
    "    print(\"gotPhoton:\")\n",
    "    if isT2:\n",
    "        outputfile.write(\n",
    "            \"%u CHN %1x %u %8.0lf\\n\"\n",
    "            % (recNum, channel, timeTag, (timeTag * globRes * 1e12))\n",
    "        )\n",
    "        print(\"recNum, = \", recNum, \" channel = \", channel, \" timeTag = \", timeTag)\n",
    "        print(\"resol, = \", (timeTag * globRes * 1e12))\n",
    "    else:\n",
    "        outputfile.write(\n",
    "            \"%u CHN %1x %u %8.0lf %10u\\n\"\n",
    "            % (recNum, channel, timeTag, (timeTag * globRes * 1e9), dtime)\n",
    "        )\n",
    "        print(\"recNum, = \", recNum, \" channel = \", channel, \" timeTag = \", timeTag)\n",
    "        print(\"resol, = \", (timeTag * globRes * 1e9), \" dtime =\", dtime)\n"
   ]
  },
  {
   "cell_type": "code",
   "execution_count": 112,
   "id": "c7b13a55-e586-45ef-8ab7-2ddbb255f37d",
   "metadata": {
    "tags": []
   },
   "outputs": [],
   "source": [
    "tagNames = [tagDataList[i][0] for i in range(0, len(tagDataList))]\n",
    "tagValues = [tagDataList[i][1] for i in range(0, len(tagDataList))]"
   ]
  },
  {
   "cell_type": "code",
   "execution_count": 113,
   "id": "89b17e16-7cc0-4330-a207-74d77f5e6bd7",
   "metadata": {
    "tags": []
   },
   "outputs": [
    {
     "name": "stdout",
     "output_type": "stream",
     "text": [
      "dtime resolution 1.28E-10 s\n",
      "Writing 246151 records, this may take a while...\n"
     ]
    }
   ],
   "source": [
    "numRecords = tagValues[tagNames.index(\"TTResult_NumberOfRecords\")]\n",
    "globRes = tagValues[tagNames.index(\"MeasDesc_GlobalResolution\")]\n",
    "TTTRTagRes = tagValues[tagNames.index(\"MeasDesc_Resolution\")]  # dtime resolution\n",
    "\n",
    "print(\"dtime resolution %.2E s\" % TTTRTagRes)\n",
    "\n",
    "print(\"Writing %d records, this may take a while...\" % numRecords)"
   ]
  },
  {
   "cell_type": "code",
   "execution_count": 114,
   "id": "16547d4f-c767-4641-99db-797625057c61",
   "metadata": {
    "tags": []
   },
   "outputs": [],
   "source": [
    "oflcorrection = 0\n",
    "dlen = 0\n",
    "outputfile.write(\"\\n-----------------------\\n\")\n",
    "recordType = tagValues[tagNames.index(\"TTResultFormat_TTTRRecType\")]"
   ]
  },
  {
   "cell_type": "code",
   "execution_count": 115,
   "id": "7a93c10e-1be3-4901-8f41-bc864112081d",
   "metadata": {
    "tags": []
   },
   "outputs": [
    {
     "name": "stdout",
     "output_type": "stream",
     "text": [
      "HydraHarp V2 T3 data\n",
      "special =  0\n",
      "channel =  0\n",
      "dtime =  1512\n",
      "nsync =  55\n",
      "gotPhoton:\n",
      "recNum, =  0  channel =  0  timeTag =  55\n",
      "resol, =  10999.824002815954  dtime = 1512\n",
      "Progress: 0.0%special =  0\n",
      "channel =  0\n",
      "dtime =  1270\n",
      "nsync =  59\n",
      "gotPhoton:\n",
      "recNum, =  1  channel =  0  timeTag =  59\n",
      "resol, =  11799.811203020752  dtime = 1270\n",
      "special =  0\n",
      "channel =  0\n",
      "dtime =  1153\n",
      "nsync =  85\n",
      "gotPhoton:\n",
      "recNum, =  2  channel =  0  timeTag =  85\n",
      "resol, =  16999.728004351928  dtime = 1153\n",
      "special =  0\n",
      "channel =  0\n",
      "dtime =  1270\n",
      "nsync =  113\n",
      "gotPhoton:\n",
      "recNum, =  3  channel =  0  timeTag =  113\n",
      "resol, =  22599.638405785507  dtime = 1270\n",
      "special =  0\n",
      "channel =  0\n",
      "dtime =  1173\n",
      "nsync =  143\n",
      "gotPhoton:\n",
      "recNum, =  4  channel =  0  timeTag =  143\n",
      "resol, =  28599.54240732148  dtime = 1173\n",
      "special =  0\n",
      "channel =  0\n",
      "dtime =  544\n",
      "nsync =  229\n",
      "gotPhoton:\n",
      "recNum, =  5  channel =  0  timeTag =  229\n",
      "resol, =  45799.26721172461  dtime = 544\n",
      "special =  0\n",
      "channel =  0\n",
      "dtime =  300\n",
      "nsync =  243\n",
      "gotPhoton:\n",
      "recNum, =  6  channel =  0  timeTag =  243\n",
      "resol, =  48599.2224124414  dtime = 300\n",
      "special =  0\n",
      "channel =  0\n",
      "dtime =  542\n",
      "nsync =  373\n",
      "gotPhoton:\n",
      "recNum, =  7  channel =  0  timeTag =  373\n",
      "resol, =  74598.8064190973  dtime = 542\n",
      "special =  0\n",
      "channel =  0\n",
      "dtime =  414\n",
      "nsync =  433\n",
      "gotPhoton:\n",
      "recNum, =  8  channel =  0  timeTag =  433\n",
      "resol, =  86598.61442216924  dtime = 414\n",
      "special =  0\n",
      "channel =  0\n",
      "dtime =  315\n",
      "nsync =  451\n",
      "gotPhoton:\n",
      "recNum, =  9  channel =  0  timeTag =  451\n",
      "resol, =  90198.55682309082  dtime = 315\n"
     ]
    }
   ],
   "source": [
    "if recordType == rtHydraHarp2T3:\n",
    "    isT2 = False \n",
    "    print(\"HydraHarp V2 T3 data\")\n",
    "    outputfile.write(\"HydraHarp V2 T3 data\\n\")\n",
    "    outputfile.write(\"\\nrecord# chan   nsync truetime/ns dtime\\n\")\n",
    "    readHT3(2)\n",
    "   "
   ]
  },
  {
   "cell_type": "code",
   "execution_count": 116,
   "id": "ccab2d4e-b9f7-4248-8694-4ba13af2089a",
   "metadata": {
    "tags": []
   },
   "outputs": [],
   "source": [
    "inputfile.close()\n",
    "outputfile.close()"
   ]
  },
  {
   "cell_type": "code",
   "execution_count": null,
   "id": "e0441e3d-4449-4776-bc00-6e239c932920",
   "metadata": {},
   "outputs": [],
   "source": []
  }
 ],
 "metadata": {
  "kernelspec": {
   "display_name": "Python 3 (ipykernel)",
   "language": "python",
   "name": "python3"
  },
  "language_info": {
   "codemirror_mode": {
    "name": "ipython",
    "version": 3
   },
   "file_extension": ".py",
   "mimetype": "text/x-python",
   "name": "python",
   "nbconvert_exporter": "python",
   "pygments_lexer": "ipython3",
   "version": "3.9.16"
  }
 },
 "nbformat": 4,
 "nbformat_minor": 5
}
